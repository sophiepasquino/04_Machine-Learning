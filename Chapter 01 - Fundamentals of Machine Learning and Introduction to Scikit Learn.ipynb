{
 "cells": [
  {
   "cell_type": "code",
   "execution_count": null,
   "id": "b29c306a",
   "metadata": {},
   "outputs": [],
   "source": [
    "# RUN THIS COMMAND ONLY IF YOU USE GOOGLE COLAB.\n",
    "from google.colab import drive\n",
    "drive.mount('/content/drive')"
   ]
  },
  {
   "cell_type": "code",
   "execution_count": null,
   "id": "d611f4fe",
   "metadata": {},
   "outputs": [],
   "source": [
    "# RUN THIS COMMAND ONLY IF YOU USE GOOGLE COLAB.\n",
    "%cd drive/MyDrive/TechLabs/04_Machine\\ Learning"
   ]
  },
  {
   "cell_type": "code",
   "execution_count": null,
   "id": "17751b25",
   "metadata": {},
   "outputs": [],
   "source": [
    "# IMPORT THESE FIRST.\n",
    "import numpy as np\n",
    "import matplotlib.pyplot as plt\n",
    "import pandas as pd\n",
    "from matplotlib import cm\n",
    "from mpl_toolkits.mplot3d import Axes3D\n",
    "from sklearn.neighbors import KNeighborsClassifier\n",
    "from sklearn.model_selection import train_test_split\n",
    "from data.adspy_shared_utilities import plot_fruit_knn\n",
    "from sklearn.datasets import load_breast_cancer"
   ]
  },
  {
   "cell_type": "markdown",
   "id": "22d85ac7",
   "metadata": {},
   "source": [
    "# Chapter 01 - Fundamentals of Machine Learning and Introduction to Scikit Learn\n",
    "### Hey Techie,   \n",
    "Welcome to the first notebook of this Machine Learning tutorial series. Today's videos serve as a kick-off to the field of Machine Learning.   \n",
    "This notebook is designed to allow you to take notes as you watch each video and learn along the code discussed in the videos. At the end of the notebook, you will find practice tasks that you can solve on your own and compare to our sample solution.   \n",
    "After auditing the course, you may find the respective materials here: https://www.coursera.org/learn/python-machine-learning/home/week/1\n",
    "#### Have fun! :-)   \n",
    "*Video length in total*: 70 minutes   \n",
    "*Self-study time*: 70 minutes   \n",
    "*Total*: **140 minutes**   \n",
    "#### Credits\n",
    "Applied Machine Learning in Python, University of Michigan (Coursera), https://www.coursera.org/learn/python-machine-learning?specialization=data-science-python\n",
    "<hr style=\"border:2px solid gray\"> </hr>   \n",
    "   \n",
    "## Notes"
   ]
  },
  {
   "cell_type": "markdown",
   "id": "f827a991",
   "metadata": {},
   "source": [
    "* Take notes here.\n",
    "    * And here.\n",
    "* ...\n",
    "* ..."
   ]
  },
  {
   "cell_type": "markdown",
   "id": "e3f49f8d",
   "metadata": {},
   "source": [
    "<hr style=\"border:2px solid gray\"> </hr>   \n",
    "   \n",
    "## Applied Machine Learning, Module 1:  A simple classification task"
   ]
  },
  {
   "cell_type": "code",
   "execution_count": null,
   "id": "d2f3957b",
   "metadata": {},
   "outputs": [],
   "source": [
    "# Load the data.\n",
    "fruits = pd.read_table('data/fruit_data_with_colors.txt')\n",
    "fruits.head()"
   ]
  },
  {
   "cell_type": "code",
   "execution_count": null,
   "id": "a431a435",
   "metadata": {},
   "outputs": [],
   "source": [
    "# create a mapping from fruit label value to fruit name to make results easier to interpret\n",
    "lookup_fruit_name = dict(zip(fruits.fruit_label.unique(), fruits.fruit_name.unique()))   \n",
    "lookup_fruit_name"
   ]
  },
  {
   "cell_type": "code",
   "execution_count": null,
   "id": "355008eb",
   "metadata": {},
   "outputs": [],
   "source": [
    "# plotting a scatter matrix\n",
    "\n",
    "X = fruits[['height', 'width', 'mass', 'color_score']]\n",
    "y = fruits['fruit_label']\n",
    "X_train, X_test, y_train, y_test = train_test_split(X, y, random_state=0)\n",
    "\n",
    "cmap = cm.get_cmap('gnuplot')\n",
    "scatter = pd.plotting.scatter_matrix(X_train, c= y_train, marker = 'o', s=40, hist_kwds={'bins':15}, figsize=(9,9), cmap=cmap)"
   ]
  },
  {
   "cell_type": "code",
   "execution_count": null,
   "id": "15a5f822",
   "metadata": {},
   "outputs": [],
   "source": [
    "# plotting a 3D scatter plot\n",
    "\n",
    "fig = plt.figure()\n",
    "ax = fig.add_subplot(111, projection = '3d')\n",
    "ax.scatter(X_train['width'], X_train['height'], X_train['color_score'], c = y_train, marker = 'o', s=100)\n",
    "ax.set_xlabel('width')\n",
    "ax.set_ylabel('height')\n",
    "ax.set_zlabel('color_score')\n",
    "plt.show()"
   ]
  },
  {
   "cell_type": "markdown",
   "id": "11013241",
   "metadata": {},
   "source": [
    "### Create train-test split"
   ]
  },
  {
   "cell_type": "code",
   "execution_count": null,
   "id": "f77d3243",
   "metadata": {},
   "outputs": [],
   "source": [
    "# For this example, we use the mass, width, and height features of each fruit instance\n",
    "X = fruits[['mass', 'width', 'height']]\n",
    "y = fruits['fruit_label']\n",
    "\n",
    "# default is 75% / 25% train-test split\n",
    "X_train, X_test, y_train, y_test = train_test_split(X, y, random_state=0)"
   ]
  },
  {
   "cell_type": "markdown",
   "id": "10a458b5",
   "metadata": {},
   "source": [
    "### Create classifier object"
   ]
  },
  {
   "cell_type": "code",
   "execution_count": null,
   "id": "adc8704a",
   "metadata": {},
   "outputs": [],
   "source": [
    "knn = KNeighborsClassifier(n_neighbors = 5)"
   ]
  },
  {
   "cell_type": "markdown",
   "id": "bbe7e00f",
   "metadata": {},
   "source": [
    "### Train the classifier (fit the estimator) using the training data"
   ]
  },
  {
   "cell_type": "code",
   "execution_count": null,
   "id": "9216ab8e",
   "metadata": {},
   "outputs": [],
   "source": [
    "knn.fit(X_train, y_train)"
   ]
  },
  {
   "cell_type": "markdown",
   "id": "39c20e58",
   "metadata": {},
   "source": [
    "### Estimate the accuracy of the classifier on future data, using the test data"
   ]
  },
  {
   "cell_type": "code",
   "execution_count": null,
   "id": "598bc5a2",
   "metadata": {},
   "outputs": [],
   "source": [
    "knn.score(X_test, y_test)"
   ]
  },
  {
   "cell_type": "markdown",
   "id": "dd00b4cc",
   "metadata": {},
   "source": [
    "### Use the trained k-NN classifier model to classify new, previously unseen objects"
   ]
  },
  {
   "cell_type": "code",
   "execution_count": null,
   "id": "c89426b9",
   "metadata": {},
   "outputs": [],
   "source": [
    "# first example: a small fruit with mass 20g, width 4.3 cm, height 5.5 cm\n",
    "fruit_prediction = knn.predict([[20, 4.3, 5.5]])\n",
    "lookup_fruit_name[fruit_prediction[0]]"
   ]
  },
  {
   "cell_type": "code",
   "execution_count": null,
   "id": "6b2a4c3f",
   "metadata": {},
   "outputs": [],
   "source": [
    "# second example: a larger, elongated fruit with mass 100g, width 6.3 cm, height 8.5 cm\n",
    "fruit_prediction = knn.predict([[100, 6.3, 8.5]])\n",
    "lookup_fruit_name[fruit_prediction[0]]"
   ]
  },
  {
   "cell_type": "markdown",
   "id": "ae9c43a5",
   "metadata": {},
   "source": [
    "### Plot the decision boundaries of the k-NN classifier"
   ]
  },
  {
   "cell_type": "code",
   "execution_count": null,
   "id": "dfa53293",
   "metadata": {},
   "outputs": [],
   "source": [
    "plot_fruit_knn(X_train, y_train, 5, 'uniform')   # we choose 5 nearest neighbors"
   ]
  },
  {
   "cell_type": "markdown",
   "id": "3980b139",
   "metadata": {},
   "source": [
    "### How sensitive is k-NN classification accuracy to the choice of the 'k' parameter?"
   ]
  },
  {
   "cell_type": "code",
   "execution_count": null,
   "id": "26e0547e",
   "metadata": {},
   "outputs": [],
   "source": [
    "k_range = range(1,20)\n",
    "scores = []\n",
    "\n",
    "for k in k_range:\n",
    "    knn = KNeighborsClassifier(n_neighbors = k)\n",
    "    knn.fit(X_train, y_train)\n",
    "    scores.append(knn.score(X_test, y_test))\n",
    "\n",
    "plt.figure()\n",
    "plt.xlabel('k')\n",
    "plt.ylabel('accuracy')\n",
    "plt.scatter(k_range, scores)\n",
    "plt.xticks([0,5,10,15,20]);"
   ]
  },
  {
   "cell_type": "markdown",
   "id": "ce5a6408",
   "metadata": {},
   "source": [
    "### How sensitive is k-NN classification accuracy to the train/test split proportion?"
   ]
  },
  {
   "cell_type": "code",
   "execution_count": null,
   "id": "1b026838",
   "metadata": {},
   "outputs": [],
   "source": [
    "t = [0.8, 0.7, 0.6, 0.5, 0.4, 0.3, 0.2]\n",
    "\n",
    "knn = KNeighborsClassifier(n_neighbors = 5)\n",
    "\n",
    "plt.figure()\n",
    "\n",
    "for s in t:\n",
    "\n",
    "    scores = []\n",
    "    for i in range(1,1000):\n",
    "        X_train, X_test, y_train, y_test = train_test_split(X, y, test_size = 1-s)\n",
    "        knn.fit(X_train, y_train)\n",
    "        scores.append(knn.score(X_test, y_test))\n",
    "    plt.plot(s, np.mean(scores), 'bo')\n",
    "\n",
    "plt.xlabel('Training set proportion (%)')\n",
    "plt.ylabel('accuracy');"
   ]
  },
  {
   "cell_type": "markdown",
   "id": "f918ea20",
   "metadata": {},
   "source": [
    "<hr style=\"border:2px solid gray\"> </hr>   \n",
    "   \n",
    "## Practice Tasks   \n",
    "For these practice tasks, you will be using the Breast Cancer Wisconsin (Diagnostic) Database to create a classifier that can help diagnose patients. First, read through the description of the dataset (below)."
   ]
  },
  {
   "cell_type": "code",
   "execution_count": null,
   "id": "8d2a4406",
   "metadata": {
    "scrolled": true
   },
   "outputs": [],
   "source": [
    "cancer = load_breast_cancer()\n",
    "# Print the dataset description.\n",
    "#print(cancer.DESCR)"
   ]
  },
  {
   "cell_type": "markdown",
   "id": "6c0b1d47",
   "metadata": {},
   "source": [
    "The object returned by `load_breast_cancer()` is a scikit-learn Bunch object, which is similar to a dictionary."
   ]
  },
  {
   "cell_type": "code",
   "execution_count": null,
   "id": "d934949f",
   "metadata": {},
   "outputs": [],
   "source": [
    "cancer.keys()"
   ]
  },
  {
   "cell_type": "markdown",
   "id": "2077a30b",
   "metadata": {},
   "source": [
    "### Task 1\n",
    "How many features does the breast cancer dataset have?    \n",
    "    \n",
    "*This function should return an integer.*   \n",
    "   \n",
    "<br /> \n",
    "<details>    \n",
    "<summary>\n",
    "    <font size=\"3\" color=\"red\"><b>Hints (click to expand)</b></font>\n",
    "</summary>\n",
    "<p>\n",
    "    <ul>\n",
    "        <li>Above, you can see the cancer dictionary's key names. Which of those contains information about all the features?</li>\n",
    "        <li>What sequence type is returned if you access the key you are looking for?</li>\n",
    "    </ul>\n",
    "</p>\n",
    "</details>"
   ]
  },
  {
   "cell_type": "code",
   "execution_count": null,
   "id": "af9d0578",
   "metadata": {},
   "outputs": [],
   "source": [
    "def answer_one():\n",
    "    # START YOUR CODE HERE.\n",
    "    \n",
    "    return # RETURN YOUR ANSWER HERE."
   ]
  },
  {
   "cell_type": "code",
   "execution_count": null,
   "id": "93c58049",
   "metadata": {},
   "outputs": [],
   "source": [
    "# THIS CELL TESTS YOUR RESULTS.\n",
    "assert answer_one() == 30, \"This is not the correct amount of features!\""
   ]
  },
  {
   "cell_type": "markdown",
   "id": "860aba12",
   "metadata": {},
   "source": [
    "<details>    \n",
    "<summary>\n",
    "    <font size=\"3\" color=\"darkgreen\"><b>Solution (click to expand)</b></font>\n",
    "</summary>\n",
    "<p>\n",
    "    <code>def answer_one():</code><br/>\n",
    "    <code>&nbsp;&nbsp;&nbsp;&nbsp;return len(cancer[\"feature_names\"])</code>\n",
    "</p>\n",
    "</details> \n",
    "\n",
    "### Task 2\n",
    "\n",
    "Scikit-learn works with lists, numpy arrays, scipy-sparse matrices, and pandas DataFrames, so converting the dataset to a DataFrame is not necessary for training this model. Using a DataFrame does however help make many things easier such as munging data, so let's practice creating a classifier with a pandas DataFrame. \n",
    "\n",
    "\n",
    "\n",
    "Convert the sklearn.dataset `cancer` to a DataFrame. \n",
    "\n",
    "*This function should return a `(569, 31)` DataFrame with* \n",
    "\n",
    "*columns =*\n",
    "\n",
    "    ['mean radius', 'mean texture', 'mean perimeter', 'mean area',\n",
    "    'mean smoothness', 'mean compactness', 'mean concavity',\n",
    "    'mean concave points', 'mean symmetry', 'mean fractal dimension',\n",
    "    'radius error', 'texture error', 'perimeter error', 'area error',\n",
    "    'smoothness error', 'compactness error', 'concavity error',\n",
    "    'concave points error', 'symmetry error', 'fractal dimension error',\n",
    "    'worst radius', 'worst texture', 'worst perimeter', 'worst area',\n",
    "    'worst smoothness', 'worst compactness', 'worst concavity',\n",
    "    'worst concave points', 'worst symmetry', 'worst fractal dimension',\n",
    "    'target']\n",
    "\n",
    "*and index =*\n",
    "\n",
    "    RangeIndex(start=0, stop=569, step=1)\n",
    "   \n",
    "<br /> \n",
    "<details>    \n",
    "<summary>\n",
    "    <font size=\"3\" color=\"red\"><b>Hints (click to expand)</b></font>\n",
    "</summary>\n",
    "<p>\n",
    "    <ul>\n",
    "        <li>You need to stack the feature and target values horizontally.</li>\n",
    "        <li>You can change an array's orientation from horizontally to vertically by using the reshape-method with parameter values -1 and 1.</li>\n",
    "        <li>The feature_names list does not contain a target instance so far.</li>\n",
    "    </ul>\n",
    "</p>\n",
    "</details>"
   ]
  },
  {
   "cell_type": "code",
   "execution_count": null,
   "id": "1e716d4c",
   "metadata": {},
   "outputs": [],
   "source": [
    "def answer_two():\n",
    "    # START YOUR CODE HERE.\n",
    "    \n",
    "    return # RETURN YOUR ANSWER HERE."
   ]
  },
  {
   "cell_type": "code",
   "execution_count": null,
   "id": "7767625c",
   "metadata": {},
   "outputs": [],
   "source": [
    "# THIS CELL TESTS YOUR RESULTS.\n",
    "assert answer_two().shape[0] == 569, \"You did not extract every sample!\"\n",
    "assert answer_two().shape[1] == 31, \"You did not extract every column!\"\n",
    "assert answer_two().iloc[1, -1] == 0, \"Your data are in the wrong order!\"\n",
    "assert answer_two().iloc[-1, 1] == 24.54, \"Your data are in the wrong order!\""
   ]
  },
  {
   "cell_type": "markdown",
   "id": "2506476b",
   "metadata": {},
   "source": [
    "<details>    \n",
    "<summary>\n",
    "    <font size=\"3\" color=\"darkgreen\"><b>Solution (click to expand)</b></font>\n",
    "</summary>\n",
    "<p>\n",
    "    <code>def answer_two():</code><br/>\n",
    "    <code>&nbsp;&nbsp;&nbsp;&nbsp;data = np.hstack((cancer[\"data\"], cancer[\"target\"].reshape(-1, 1)))</code><br/>\n",
    "    <code>&nbsp;&nbsp;&nbsp;&nbsp;column_names = [*cancer[\"feature_names\"], \"target\"]</code><br/>\n",
    "    <code>&nbsp;&nbsp;&nbsp;&nbsp;return pd.DataFrame(data, columns = column_names)</code><br/>\n",
    "</p>\n",
    "</details> \n",
    "\n",
    "### Task 3\n",
    "What is the class distribution? (i.e. how many instances of `malignant` (encoded 0) and how many `benign` (encoded 1)?)\n",
    "\n",
    "*This function should return a Series named `target` of length 2 with integer values and index =* `['malignant', 'benign']`.\n",
    "   \n",
    "   \n",
    "<br /> \n",
    "<details>    \n",
    "<summary>\n",
    "    <font size=\"3\" color=\"red\"><b>Hints (click to expand)</b></font>\n",
    "</summary>\n",
    "<p>\n",
    "    <ul>\n",
    "        <li>During our Pandas tutorial series, you encountered one method that extracts unique value counts for a Series object. Remind yourself of that method.</li>\n",
    "        <li>You can access a Series object's index with the dot notation.</li>\n",
    "    </ul>\n",
    "</p>\n",
    "</details>"
   ]
  },
  {
   "cell_type": "code",
   "execution_count": null,
   "id": "7016e097",
   "metadata": {},
   "outputs": [],
   "source": [
    "def answer_three():\n",
    "    # START YOUR CODE HERE.\n",
    "    \n",
    "    return # RETURN YOUR ANSWER HERE."
   ]
  },
  {
   "cell_type": "code",
   "execution_count": null,
   "id": "1909833d",
   "metadata": {},
   "outputs": [],
   "source": [
    "# THIS CELL TESTS YOUR RESULTS.\n",
    "assert answer_three()[\"benign\"] == 357, \"As it seems you extracted the wrong counts!\"\n",
    "assert answer_three()[\"malignant\"] == 212, \"As it seems you extracted the wrong counts!\""
   ]
  },
  {
   "cell_type": "markdown",
   "id": "1469964e",
   "metadata": {},
   "source": [
    "<details>    \n",
    "<summary>\n",
    "    <font size=\"3\" color=\"darkgreen\"><b>Solution (click to expand)</b></font>\n",
    "</summary>\n",
    "<p>\n",
    "    <code>def answer_three():</code><br/>\n",
    "    <code>&nbsp;&nbsp;&nbsp;&nbsp;series = answer_two()[\"target\"].value_counts()</code><br/>\n",
    "    <code>&nbsp;&nbsp;&nbsp;&nbsp;series.index = series.index.map({1: \"benign\", 0: \"malignant\"})</code><br/>\n",
    "    <code>&nbsp;&nbsp;&nbsp;&nbsp;return series</code><br/>\n",
    "</p>\n",
    "</details> \n",
    "\n",
    "### Task 4\n",
    "Split the DataFrame into `X` (the data) and `y` (the labels).\n",
    "\n",
    "*This function should return a tuple of length 2:* `(X, y)`*, where* \n",
    "* `X`*, a pandas DataFrame, has shape* `(569, 30)`\n",
    "* `y`*, a pandas Series, has shape* `(569,)`   \n",
    "   \n",
    "<br /> \n",
    "<details>    \n",
    "<summary>\n",
    "    <font size=\"3\" color=\"red\"><b>Hints (click to expand)</b></font>\n",
    "</summary>\n",
    "<p>\n",
    "    <ul>\n",
    "        <li>To return X, you only need to drop the target column from the cancer_df.</li>\n",
    "        <li>To return y, you only need to extract the target column from the cancer_df.</li>\n",
    "    </ul>\n",
    "</p>\n",
    "</details>"
   ]
  },
  {
   "cell_type": "code",
   "execution_count": null,
   "id": "68c49af1",
   "metadata": {},
   "outputs": [],
   "source": [
    "def answer_four():\n",
    "    cancer_df = answer_two()\n",
    "    # START YOUR CODE HERE.\n",
    "\n",
    "    return X, y"
   ]
  },
  {
   "cell_type": "code",
   "execution_count": null,
   "id": "b2182a5a",
   "metadata": {},
   "outputs": [],
   "source": [
    "# THIS CELL TESTS YOUR RESULTS.\n",
    "assert type(answer_four()[0]) == type(pd.DataFrame()), \"You should return X as a DataFrame!\"\n",
    "assert type(answer_four()[1]) == type(pd.Series(dtype = \"float64\")), \"You should return y as a Series!\"\n",
    "assert answer_four()[0].shape == (569, 30), \"Your X has the wrong dimensions!\"\n",
    "assert answer_four()[1].shape == (569,), \"Your y has the wrong dimensions!\""
   ]
  },
  {
   "cell_type": "markdown",
   "id": "88ffd370",
   "metadata": {},
   "source": [
    "<details>    \n",
    "<summary>\n",
    "    <font size=\"3\" color=\"darkgreen\"><b>Solution (click to expand)</b></font>\n",
    "</summary>\n",
    "<p>\n",
    "    <code>def answer_four():</code><br/>\n",
    "    <code>&nbsp;&nbsp;&nbsp;&nbsp;cancer_df = answer_two()</code><br/>\n",
    "    <code>&nbsp;&nbsp;&nbsp;&nbsp;X = cancer_df.drop([\"target\"], axis = 1)</code><br/>\n",
    "    <code>&nbsp;&nbsp;&nbsp;&nbsp;y = cancer_df[\"target\"]</code><br/>\n",
    "    <code>&nbsp;&nbsp;&nbsp;&nbsp;return X, y</code><br/>\n",
    "</p>\n",
    "</details> \n",
    "\n",
    "### Task 5   \n",
    "Using `train_test_split`, split `X` and `y` into training and test sets `(X_train, X_test, y_train, and y_test)`.\n",
    "\n",
    "**Set the random number generator state to 0 using `random_state=0` to make sure your results are reproducible!**\n",
    "\n",
    "*This function should return a tuple of length 4:* `(X_train, X_test, y_train, y_test)`*, where* \n",
    "* `X_train` *has shape* `(426, 30)`\n",
    "* `X_test` *has shape* `(143, 30)`\n",
    "* `y_train` *has shape* `(426,)`\n",
    "* `y_test` *has shape* `(143,)`   \n",
    "   \n",
    "<br /> \n",
    "<details>    \n",
    "<summary>\n",
    "    <font size=\"3\" color=\"red\"><b>Hints (click to expand)</b></font>\n",
    "</summary>\n",
    "<p>\n",
    "    <li>By default, train_test_split returns a 75/25 split.</li>\n",
    "    <li>Set the random_state parameter to 0.</li>\n",
    "</p>\n",
    "</details>"
   ]
  },
  {
   "cell_type": "code",
   "execution_count": null,
   "id": "dddc1f7f",
   "metadata": {},
   "outputs": [],
   "source": [
    "def answer_five():\n",
    "    X, y = answer_four()\n",
    "    # START YOUR CODE HERE.\n",
    "    \n",
    "    return X_train, X_test, y_train, y_test"
   ]
  },
  {
   "cell_type": "code",
   "execution_count": null,
   "id": "90f69d7d",
   "metadata": {},
   "outputs": [],
   "source": [
    "# THIS CELL TESTS YOUR RESULTS.\n",
    "assert answer_five()[0].shape == (426, 30), \"Your X_train has the wrong dimensions!\"\n",
    "assert answer_five()[1].shape == (143, 30), \"Your X_test has the wrong dimensions!\"\n",
    "assert answer_five()[2].shape == (426,), \"Your y_train has the wrong dimensions!\"\n",
    "assert answer_five()[3].shape == (143,), \"Your y_test has the wrong dimensions!\"\n",
    "assert answer_five()[0].iloc[10, 10] == 0.1998, \"Adjust your setting of the random_state parameter!\""
   ]
  },
  {
   "cell_type": "markdown",
   "id": "6d833926",
   "metadata": {},
   "source": [
    "<details>    \n",
    "<summary>\n",
    "    <font size=\"3\" color=\"darkgreen\"><b>Solution (click to expand)</b></font>\n",
    "</summary>\n",
    "<p>\n",
    "    <code>def answer_five():</code><br/>\n",
    "    <code>&nbsp;&nbsp;&nbsp;&nbsp;X, y = answer_four()</code><br/>\n",
    "    <code>&nbsp;&nbsp;&nbsp;&nbsp;X_train, X_test, y_train, y_test = train_test_split(X, y, random_state = 0)</code><br/>\n",
    "    <code>&nbsp;&nbsp;&nbsp;&nbsp;return X_train, X_test, y_train, y_test</code><br/>\n",
    "</p>\n",
    "</details> \n",
    "\n",
    "### Task 6   \n",
    "Using KNeighborsClassifier, fit a k-nearest neighbors (knn) classifier with `X_train`, `y_train` and using one nearest neighbor (`n_neighbors = 1`).\n",
    "\n",
    "*This function should return a* `sklearn.neighbors.classification.KNeighborsClassifier`."
   ]
  },
  {
   "cell_type": "code",
   "execution_count": null,
   "id": "ea5b7d34",
   "metadata": {},
   "outputs": [],
   "source": [
    "def answer_six():\n",
    "    X_train, X_test, y_train, y_test = answer_five()\n",
    "    # START YOUR CODE HERE.\n",
    "    \n",
    "    return # RETURN YOUR ANSWER HERE."
   ]
  },
  {
   "cell_type": "code",
   "execution_count": null,
   "id": "3b19d5a5",
   "metadata": {},
   "outputs": [],
   "source": [
    "# THIS CELL TESTS YOUR RESULTS.\n",
    "assert type(answer_six()) == type(KNeighborsClassifier()), \"Please return a KNN Classifier!\"\n",
    "assert answer_six().get_params()[\"n_neighbors\"] == 1, \"Please use one nearest neighbor!\"\n",
    "assert answer_six().kneighbors()[0].shape == (426, 1), \"Please use X_train and y_train for training the classifier!\""
   ]
  },
  {
   "cell_type": "markdown",
   "id": "ea35044d",
   "metadata": {},
   "source": [
    "<details>    \n",
    "<summary>\n",
    "    <font size=\"3\" color=\"darkgreen\"><b>Solution (click to expand)</b></font>\n",
    "</summary>\n",
    "<p>\n",
    "    <code>def answer_six():</code><br/>\n",
    "    <code>&nbsp;&nbsp;&nbsp;&nbsp;X_train, X_test, y_train, y_test = answer_five()</code><br/>\n",
    "    <code>&nbsp;&nbsp;&nbsp;&nbsp;return KNeighborsClassifier(n_neighbors = 1).fit(X_train, y_train)</code><br/> \n",
    "</p>\n",
    "</details> \n",
    "\n",
    "### Task 7\n",
    "Using your knn classifier, predict the class label using the mean value for each feature.\n",
    "\n",
    "Hint: You can use `cancerdf.mean()[:-1].values.reshape(1, -1)` which gets the mean value for each feature, ignores the target column, and reshapes the data from 1 dimension to 2 (necessary for the precict method of KNeighborsClassifier).\n",
    "\n",
    "*This function should return a numpy array either `array([ 0.])` or `array([ 1.])`.*"
   ]
  },
  {
   "cell_type": "code",
   "execution_count": null,
   "id": "07aaa0ba",
   "metadata": {},
   "outputs": [],
   "source": [
    "def answer_seven():\n",
    "    cancerdf = answer_two()\n",
    "    means = cancerdf.mean()[:-1].values.reshape(1, -1)\n",
    "    # START YOUR CODE HERE.\n",
    "    \n",
    "    return # RETURN YOUR ANSWER HERE."
   ]
  },
  {
   "cell_type": "code",
   "execution_count": null,
   "id": "061a7faf",
   "metadata": {},
   "outputs": [],
   "source": [
    "# THIS CELL TESTS YOUR RESULTS.\n",
    "assert answer_seven() == np.array([1]), \"Your predictions seems to be wrong!\""
   ]
  },
  {
   "cell_type": "markdown",
   "id": "e9755777",
   "metadata": {},
   "source": [
    "<details>    \n",
    "<summary>\n",
    "    <font size=\"3\" color=\"darkgreen\"><b>Solution (click to expand)</b></font>\n",
    "</summary>\n",
    "<p>\n",
    "    <code>def answer_seven():</code><br/>\n",
    "    <code>&nbsp;&nbsp;&nbsp;&nbsp;cancerdf = answer_two()</code><br/>\n",
    "    <code>&nbsp;&nbsp;&nbsp;&nbsp;means = cancerdf.mean()[:-1].values.reshape(1, -1)</code><br/>\n",
    "    <code>&nbsp;&nbsp;&nbsp;&nbsp;return answer_six().predict(means)</code><br/>\n",
    "</p>\n",
    "</details> \n",
    "\n",
    "### Task 8\n",
    "Using your knn classifier, predict the class labels for the test set `X_test`.\n",
    "\n",
    "*This function should return a numpy array with shape `(143,)` and values either `0.0` or `1.0`.* "
   ]
  },
  {
   "cell_type": "code",
   "execution_count": null,
   "id": "3285ff6a",
   "metadata": {},
   "outputs": [],
   "source": [
    "def answer_eight():\n",
    "    X_train, X_test, y_train, y_test = answer_five()\n",
    "    knn = answer_six()\n",
    "    # START YOUR CODE HERE.\n",
    "    \n",
    "    return # RETURN YOUR ANSWER HERE."
   ]
  },
  {
   "cell_type": "code",
   "execution_count": null,
   "id": "5126879b",
   "metadata": {},
   "outputs": [],
   "source": [
    "# THIS CELL TESTS YOUR RESULTS.\n",
    "assert answer_eight().shape == (143,), \"Please predict X_test!\"\n",
    "assert answer_eight()[0] == 1, \"Your predictions seem to be incorrect!\"\n",
    "assert answer_eight()[-1] == 0, \"Your predictions seem to be incorrect!\""
   ]
  },
  {
   "cell_type": "markdown",
   "id": "9da5c382",
   "metadata": {},
   "source": [
    "<details>    \n",
    "<summary>\n",
    "    <font size=\"3\" color=\"darkgreen\"><b>Solution (click to expand)</b></font>\n",
    "</summary>\n",
    "<p>\n",
    "    <code>def answer_eight():</code><br/>\n",
    "    <code>&nbsp;&nbsp;&nbsp;&nbsp;X_train, X_test, y_train, y_test = answer_five()</code><br/>\n",
    "    <code>&nbsp;&nbsp;&nbsp;&nbsp;knn = answer_six()</code><br/>\n",
    "    <code>&nbsp;&nbsp;&nbsp;&nbsp;return knn.predict(X_test)</code><br/>\n",
    "</p>\n",
    "</details>\n",
    "\n",
    "### Task 9\n",
    "Find the score (mean accuracy) of your knn classifier using `X_test` and `y_test`.\n",
    "\n",
    "*This function should return a float between 0 and 1.*"
   ]
  },
  {
   "cell_type": "code",
   "execution_count": null,
   "id": "1a3b39bc",
   "metadata": {},
   "outputs": [],
   "source": [
    "def answer_nine():\n",
    "    X_train, X_test, y_train, y_test = answer_five()\n",
    "    knn = answer_six()\n",
    "    # START YOUR CODE HERE.\n",
    "    \n",
    "    return # RETURN YOUR ANSWER HERE."
   ]
  },
  {
   "cell_type": "code",
   "execution_count": null,
   "id": "1335b6cf",
   "metadata": {},
   "outputs": [],
   "source": [
    "# THIS CELL TESTS YOUR RESULTS.\n",
    "assert answer_nine() == 0.916083916083916, \"Your accuracy seems to be wrong!\""
   ]
  },
  {
   "cell_type": "markdown",
   "id": "c04406b8",
   "metadata": {},
   "source": [
    "<details>    \n",
    "<summary>\n",
    "    <font size=\"3\" color=\"darkgreen\"><b>Solution (click to expand)</b></font>\n",
    "</summary>\n",
    "<p>\n",
    "    <code>def answer_nine():</code><br/>\n",
    "    <code>&nbsp;&nbsp;&nbsp;&nbsp;X_train, X_test, y_train, y_test = answer_five()</code><br/>\n",
    "    <code>&nbsp;&nbsp;&nbsp;&nbsp;knn = answer_six()</code><br/>\n",
    "    <code>&nbsp;&nbsp;&nbsp;&nbsp;return knn.score(X_test, y_test)</code><br/>\n",
    "</p>\n",
    "</details>"
   ]
  }
 ],
 "metadata": {
  "kernelspec": {
   "display_name": "Python 3 (ipykernel)",
   "language": "python",
   "name": "python3"
  },
  "language_info": {
   "codemirror_mode": {
    "name": "ipython",
    "version": 3
   },
   "file_extension": ".py",
   "mimetype": "text/x-python",
   "name": "python",
   "nbconvert_exporter": "python",
   "pygments_lexer": "ipython3",
   "version": "3.8.9"
  }
 },
 "nbformat": 4,
 "nbformat_minor": 5
}
